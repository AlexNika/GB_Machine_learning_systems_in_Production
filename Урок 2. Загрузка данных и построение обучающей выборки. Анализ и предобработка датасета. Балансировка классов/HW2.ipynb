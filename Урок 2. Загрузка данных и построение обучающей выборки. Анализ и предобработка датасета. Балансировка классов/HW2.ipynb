{
 "cells": [
  {
   "cell_type": "markdown",
   "metadata": {},
   "source": [
    "##### Задание №1\n",
    "Напишите функцию, которая возвращает сумму двух вещественных аргументов a и b, а к ней декоратор, который делает так, чтобы возвращаемое значение функцией было по модулю 5."
   ]
  },
  {
   "cell_type": "code",
   "execution_count": 1,
   "metadata": {},
   "outputs": [],
   "source": [
    "def mod5(func):\n",
    "    def wrapper(*args, **kwargs):\n",
    "        return func(*args, **kwargs) // 5\n",
    "    return wrapper"
   ]
  },
  {
   "cell_type": "code",
   "execution_count": 2,
   "metadata": {},
   "outputs": [],
   "source": [
    "@mod5\n",
    "def adder(*args):\n",
    "    result = 0\n",
    "    for arg in args:\n",
    "        result += arg\n",
    "    return result"
   ]
  },
  {
   "cell_type": "code",
   "execution_count": 4,
   "metadata": {
    "scrolled": true
   },
   "outputs": [
    {
     "name": "stdout",
     "output_type": "stream",
     "text": [
      "Результат функции adder(60.3, 120.85) с декоратором = 36.00\n",
      "Проверка 36.00\n"
     ]
    }
   ],
   "source": [
    "print(f'Результат функции adder(60.3, 120.85) с декоратором = {adder(60.3, 120.85):.2f}')\n",
    "print(f'Проверка {((60.3 + 120.85) // 5):.2f}')"
   ]
  },
  {
   "cell_type": "markdown",
   "metadata": {},
   "source": [
    "#### Задание №2\n",
    "Попробуйте описать своими словами основные отличия SMOTE от ADASYN, ознакомившись с документацией к ним."
   ]
  },
  {
   "cell_type": "markdown",
   "metadata": {},
   "source": [
    "1. SMOTE и ADASYN - методы балансировки несбалансированных классов, основанные на алгоритме нахождения n-ближайших соседей.\n",
    "2. SMOTE - метод для каждой точки минорного класса запускает алгоритм нахождения n-ближайших соседей, тем самым определяя области пространства как кластеры минорных классов с соответствующими центрами. Далее метод проводит прямые линии между центрами кластеров и генерирует синтетические точки минорных классов на этих линиях.\n",
    "3. ADASYN - улучшенный по сравнению с SMOTE метод. Основное отличие этих методов oversampling в том, что при генерации синтетических точек к ним добавляется небольшой случайный шум, что делает данные более качественными, избавляет нас от линейной корреляции синтетических точек расположенных на прямых линиях."
   ]
  }
 ],
 "metadata": {
  "kernelspec": {
   "display_name": "Python 3",
   "language": "python",
   "name": "python3"
  },
  "language_info": {
   "codemirror_mode": {
    "name": "ipython",
    "version": 3
   },
   "file_extension": ".py",
   "mimetype": "text/x-python",
   "name": "python",
   "nbconvert_exporter": "python",
   "pygments_lexer": "ipython3",
   "version": "3.7.2"
  }
 },
 "nbformat": 4,
 "nbformat_minor": 2
}
